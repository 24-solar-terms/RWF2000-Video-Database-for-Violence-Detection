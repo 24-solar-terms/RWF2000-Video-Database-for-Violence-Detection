{
 "cells": [
  {
   "cell_type": "markdown",
   "metadata": {},
   "source": [
    "## 将指定路径下的所有视频切片"
   ]
  },
  {
   "cell_type": "markdown",
   "metadata": {},
   "source": [
    "### 导入相关库"
   ]
  },
  {
   "cell_type": "code",
   "execution_count": 1,
   "metadata": {},
   "outputs": [],
   "source": [
    "import os\n",
    "import cv2\n",
    "from tqdm import tqdm"
   ]
  },
  {
   "cell_type": "markdown",
   "metadata": {},
   "source": [
    "### 视频切割 - 1"
   ]
  },
  {
   "cell_type": "code",
   "execution_count": 2,
   "metadata": {},
   "outputs": [],
   "source": [
    "def VideoCutting(video_path, slice_path, len_slice, resolution=None):\n",
    "    \"\"\"Cutting the videos into small slices with specified frames\n",
    "    Args:\n",
    "        video_path: the directory containing a lot of videos\n",
    "        slice_path: the directory will be used to store slices\n",
    "        len_slice: length of frame in each sliced video\n",
    "        resolution: (width,height) of sliced video\n",
    "    Return:\n",
    "        None\n",
    "    \"\"\"\n",
    "    # Extract the path of each video\n",
    "    videos = os.listdir(video_path)\n",
    "    videos = [os.path.join(video_path,i) for i in videos]\n",
    "    # Start to cutting\n",
    "    for video in tqdm(videos):\n",
    "        # Extract the VideoID from video path\n",
    "        video_id = video.split('\\\\')[-1].split('.')[0]\n",
    "        try:\n",
    "            # Read video and get num of frames\n",
    "            cap = cv2.VideoCapture(video) \n",
    "            num_frames = int(cap.get(7)) \n",
    "            # Initialize an empty list for video clip\n",
    "            sliced_video = [] \n",
    "            # Start to cut video into clips\n",
    "            for i in range(num_frames):\n",
    "                _,frame = cap.read()\n",
    "                sliced_video.append(frame) \n",
    "                # Save the clip\n",
    "                if len(sliced_video) == len_slice:\n",
    "                    Array2Video(array=sliced_video, \\\n",
    "                    save_dir=slice_path, resolution=(frame.shape[1],frame.shape[0]),fps=30, video_id=video_id)\n",
    "                    # Reset slice buffer\n",
    "                    sliced_video = []\n",
    "            cap.release() \n",
    "        except:\n",
    "            continue\n",
    "                \n",
    "    return None"
   ]
  },
  {
   "cell_type": "markdown",
   "metadata": {},
   "source": [
    "### 视频写入 - 2"
   ]
  },
  {
   "cell_type": "code",
   "execution_count": 3,
   "metadata": {},
   "outputs": [],
   "source": [
    "def Array2Video(array, save_dir, resolution, fps, video_id):\n",
    "    \"\"\"Write the list of frames into a video format\n",
    "    Args:\n",
    "        array: input array, a list of frames\n",
    "        save_dir: specify a directory to save video\n",
    "        resolution: size of each frame\n",
    "        fps: frames per second\n",
    "    Return:\n",
    "        None\n",
    "    Attention:\n",
    "        the resolution must be same to the size of input frame, otherwise the \n",
    "        video will be destoryed.\n",
    "    \"\"\"\n",
    "    # Count the index of next video\n",
    "    count = len(os.listdir(save_dir))\n",
    "    # Specify video name for storing\n",
    "    video_name = video_id + '_' + str(count) + '.avi'\n",
    "    save_path = os.path.join(save_dir, video_name)\n",
    "    # Specify the video codec\n",
    "    fourcc = cv2.VideoWriter_fourcc(*'MJPG')\n",
    "    VideoWriter = cv2.VideoWriter(save_path,fourcc,fps,resolution)\n",
    "    # Write each frame into a video\n",
    "    for i in range(len(array)):\n",
    "        frame = array[i] \n",
    "        VideoWriter.write(frame)\n",
    "\n",
    "    VideoWriter.release()\n",
    "    return None"
   ]
  },
  {
   "cell_type": "markdown",
   "metadata": {},
   "source": [
    "### 执行切片"
   ]
  },
  {
   "cell_type": "code",
   "execution_count": 4,
   "metadata": {},
   "outputs": [
    {
     "name": "stderr",
     "output_type": "stream",
     "text": [
      "100%|████████████████████████████████████████████████████████████████████████████████| 101/101 [16:48<00:00, 31.17s/it]\n"
     ]
    }
   ],
   "source": [
    "video_path = r'E:\\A - data'\n",
    "slice_path = r'E:\\ABBB' \n",
    "\n",
    "VideoCutting(video_path, slice_path, len_slice=30*5)"
   ]
  },
  {
   "cell_type": "code",
   "execution_count": null,
   "metadata": {},
   "outputs": [],
   "source": []
  }
 ],
 "metadata": {
  "kernelspec": {
   "display_name": "Python 3",
   "language": "python",
   "name": "python3"
  },
  "language_info": {
   "codemirror_mode": {
    "name": "ipython",
    "version": 3
   },
   "file_extension": ".py",
   "mimetype": "text/x-python",
   "name": "python",
   "nbconvert_exporter": "python",
   "pygments_lexer": "ipython3",
   "version": "3.7.1"
  }
 },
 "nbformat": 4,
 "nbformat_minor": 2
}
