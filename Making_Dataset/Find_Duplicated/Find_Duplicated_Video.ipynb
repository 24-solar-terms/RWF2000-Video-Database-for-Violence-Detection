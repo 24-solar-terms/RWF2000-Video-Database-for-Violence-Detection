{
 "cells": [
  {
   "cell_type": "code",
   "execution_count": null,
   "metadata": {},
   "outputs": [],
   "source": [
    "import os\n",
    "import shutil\n",
    "import cv2  \n",
    "import numpy as np\n",
    "import matplotlib.pyplot as plt\n",
    "from tqdm import tqdm\n",
    "import pandas as pd"
   ]
  },
  {
   "cell_type": "markdown",
   "metadata": {},
   "source": [
    "### Select only one clip from each videoID\n",
    "遍历数据集中的视频片段，并在每个VideoID类别下只挑选一个片段，存入指定路径用于下一步查重"
   ]
  },
  {
   "cell_type": "code",
   "execution_count": null,
   "metadata": {},
   "outputs": [],
   "source": [
    "src_path = r\"E:\\A - 暴力事件检测\\Datasets\\Youtube-crime\\A1 - 正常\"\n",
    "dst_path = \"Video_Clips\""
   ]
  },
  {
   "cell_type": "code",
   "execution_count": null,
   "metadata": {},
   "outputs": [],
   "source": [
    "def extract_VideoID(video_name):\n",
    "    # Initialize empty video id\n",
    "    VideoID = ''\n",
    "    # Get the entire video id\n",
    "    for s in video_name.split('_')[:-1]:\n",
    "        VideoID += s\n",
    "        VideoID += '_'\n",
    "        \n",
    "    return VideoID[:-1]"
   ]
  },
  {
   "cell_type": "code",
   "execution_count": null,
   "metadata": {},
   "outputs": [],
   "source": [
    "# Save the VideoID that has been already selected\n",
    "saved_video = []\n",
    "# Begin to select\n",
    "for video_name in tqdm(os.listdir(src_path)):\n",
    "    VideoID = extract_VideoID(video_name)\n",
    "    # Select and copy the video if it is not selected before, and add it into selected list\n",
    "    if VideoID not in saved_video:\n",
    "        video_path = os.path.join(src_path,video_name)\n",
    "        shutil.copy(video_path, dst_path)\n",
    "        saved_video.append(VideoID)\n",
    "    else:\n",
    "        pass"
   ]
  },
  {
   "cell_type": "code",
   "execution_count": null,
   "metadata": {},
   "outputs": [],
   "source": [
    "print(\"Number of source videos: \", len(saved_video))"
   ]
  },
  {
   "cell_type": "markdown",
   "metadata": {},
   "source": [
    "### Calculate finger_print of each video by histogram\n",
    "计算每个视频在BGR通道上的灰度直方图（帧间平均），并将其拼接展开为一维向量作为视频指纹"
   ]
  },
  {
   "cell_type": "markdown",
   "metadata": {},
   "source": [
    "- 自定义函数"
   ]
  },
  {
   "cell_type": "code",
   "execution_count": null,
   "metadata": {},
   "outputs": [],
   "source": [
    "def get_all_frames(video_path):\n",
    "    \"\"\"Load all frames of a video as a list of images\n",
    "    \"\"\"\n",
    "    frames = []\n",
    "    cap = cv2.VideoCapture(video_path)\n",
    "    for i in range(int(cap.get(7))):\n",
    "        _,frame = cap.read()\n",
    "        frame = cv2.cvtColor(frame, cv2.COLOR_BGR2GRAY)\n",
    "        frames.append(frame)\n",
    "    cap.release()\n",
    "    \n",
    "    return frames\n",
    "\n",
    "\n",
    "def Normalize(data):\n",
    "    \"\"\"Normalize the input vector so that it has the max=1 and min=0\n",
    "    \"\"\"\n",
    "    mm = np.max(data)\n",
    "    mn = np.min(data)\n",
    "    \n",
    "    return (data-mn) / (mm-mn)\n",
    "\n",
    "\n",
    "def calculate_finger_print(frames):\n",
    "    \"\"\"Calculate the histogram of picture and use it as video fingerprint \n",
    "    \"\"\"\n",
    "    hist = cv2.calcHist(images=frames, channels=[0], mask=None, histSize=[256], ranges=[0,255], accumulate=True)\n",
    "    hist= Normalize(hist)\n",
    "    finger_print = np.reshape(hist, [-1]) \n",
    "    \n",
    "    return finger_print"
   ]
  },
  {
   "cell_type": "markdown",
   "metadata": {},
   "source": [
    "- 配置文件路径"
   ]
  },
  {
   "cell_type": "code",
   "execution_count": null,
   "metadata": {},
   "outputs": [],
   "source": [
    "src_path =\"Video_Clips\"\n",
    "video_list = os.listdir(src_path)"
   ]
  },
  {
   "cell_type": "markdown",
   "metadata": {},
   "source": [
    "- 计算视频指纹"
   ]
  },
  {
   "cell_type": "code",
   "execution_count": null,
   "metadata": {},
   "outputs": [],
   "source": [
    "# Initialzie an empty dict to save finger print of each video\n",
    "Video_FPs = {}\n",
    "# Start to Calculate\n",
    "for video_name in tqdm(video_list):\n",
    "    # Get VideoID and video path \n",
    "    VideoID = extract_VideoID(video_name)    \n",
    "    video_path = os.path.join(src_path, video_name)\n",
    "    # Load all frames as a list of images\n",
    "    frames = get_all_frames(video_path)\n",
    "    # Calculate the video's finger print\n",
    "    finger_print = calculate_finger_print(frames)\n",
    "    # Save it in dict \n",
    "    Video_FPs[VideoID] = finger_print"
   ]
  },
  {
   "cell_type": "markdown",
   "metadata": {},
   "source": [
    "### Calculate the similarity of videos\n",
    "计算所有的VideoID中，两两之间的余弦相似度"
   ]
  },
  {
   "cell_type": "markdown",
   "metadata": {},
   "source": [
    "- 定义余弦相似度计算"
   ]
  },
  {
   "cell_type": "code",
   "execution_count": null,
   "metadata": {},
   "outputs": [],
   "source": [
    "def cosine_similarity(vector_1, vector_2):\n",
    "    \"\"\"Calcuale the cosine similarity between two vector\n",
    "    \"\"\"\n",
    "    A = np.dot(vector_1, vector_2)\n",
    "    B = np.linalg.norm(vector_1) * np.linalg.norm(vector_2)\n",
    "    return A/B"
   ]
  },
  {
   "cell_type": "markdown",
   "metadata": {},
   "source": [
    "- 载入待比较的VideoID"
   ]
  },
  {
   "cell_type": "code",
   "execution_count": null,
   "metadata": {},
   "outputs": [],
   "source": [
    "# Get all VideoIDs\n",
    "VIDs = [extract_VideoID(video_name) for video_name in video_list]"
   ]
  },
  {
   "cell_type": "markdown",
   "metadata": {},
   "source": [
    "- 计算两两之间的相似度"
   ]
  },
  {
   "cell_type": "code",
   "execution_count": null,
   "metadata": {},
   "outputs": [],
   "source": [
    "# Initialize empty lists to save video pairs and similarities\n",
    "VID_1 = []\n",
    "VID_2 = []\n",
    "VSs = []\n",
    "# Start to calcualte similarity of each video pair\n",
    "for i in range(len(VIDs)):\n",
    "    for j in range(i+1, len(VIDs)):\n",
    "        # Get two VideoID and FingerPrints\n",
    "        video_1 = VIDs[i]\n",
    "        video_2 = VIDs[j]\n",
    "        fp1 = Video_FPs[video_1]\n",
    "        fp2 = Video_FPs[video_2]\n",
    "        # Calcualte the cosine similarity\n",
    "        similarity = cosine_similarity(fp1, fp2)\n",
    "        # Append the result into lists\n",
    "        VID_1.append(video_1)\n",
    "        VID_2.append(video_2)\n",
    "        VSs.append(similarity)"
   ]
  },
  {
   "cell_type": "markdown",
   "metadata": {},
   "source": [
    "- 转换为DF格式并存入CSV文件"
   ]
  },
  {
   "cell_type": "code",
   "execution_count": null,
   "metadata": {},
   "outputs": [],
   "source": [
    "df = pd.DataFrame({'Video_1':VID_1, 'VIdeo_2':VID_2, 'Video_Similarity':VSs})\n",
    "df = df.sort_values(by='Video_Similarity', axis=0, ascending=False)\n",
    "df = df.reset_index(drop=True)\n",
    "df.to_csv('Similarity.csv',index=False, encoding='utf-8')"
   ]
  }
 ],
 "metadata": {
  "kernelspec": {
   "display_name": "Python 3",
   "language": "python",
   "name": "python3"
  },
  "language_info": {
   "codemirror_mode": {
    "name": "ipython",
    "version": 3
   },
   "file_extension": ".py",
   "mimetype": "text/x-python",
   "name": "python",
   "nbconvert_exporter": "python",
   "pygments_lexer": "ipython3",
   "version": "3.7.1"
  }
 },
 "nbformat": 4,
 "nbformat_minor": 2
}
