{
 "cells": [
  {
   "cell_type": "markdown",
   "metadata": {},
   "source": [
    "### 获取Youtube指定页面下的视频ID"
   ]
  },
  {
   "cell_type": "markdown",
   "metadata": {},
   "source": [
    "- 导入相关库"
   ]
  },
  {
   "cell_type": "code",
   "execution_count": 1,
   "metadata": {},
   "outputs": [],
   "source": [
    "import requests\n",
    "from bs4 import BeautifulSoup as bf\n",
    "from tqdm import tqdm\n",
    "import pandas as pd"
   ]
  },
  {
   "cell_type": "markdown",
   "metadata": {},
   "source": [
    "- 获取指定页面内包含的视频ID"
   ]
  },
  {
   "cell_type": "code",
   "execution_count": 2,
   "metadata": {},
   "outputs": [],
   "source": [
    "def youtube_page(target_url, page_num=1):\n",
    "    target_url = target_url + '&page=' + str(page_num)\n",
    "    rs = requests.session()\n",
    "    res = rs.get(target_url)\n",
    "    soup = bf(res.text, 'html.parser')\n",
    "    url = []\n",
    "    for data in soup.select('.yt-lockup-title'):\n",
    "        if len(data.find('a')['href']) > 20:\n",
    "            continue\n",
    "        link = 'https://www.youtube.com{}'.format(data.find('a')['href']).split('watch?v=')[-1]\n",
    "        url.append(link)\n",
    "    \n",
    "    return url"
   ]
  },
  {
   "cell_type": "markdown",
   "metadata": {},
   "source": [
    "- 开始爬取数据"
   ]
  },
  {
   "cell_type": "code",
   "execution_count": null,
   "metadata": {},
   "outputs": [],
   "source": [
    "target_url = 'https://www.youtube.com/playlist?list=PLCEC6069E83EA9E17'\n",
    "\n",
    "urls = []\n",
    "start_page = 0\n",
    "end_page = start_page + 10\n",
    "for i in tqdm(range(start_page,end_page)):\n",
    "    urls += youtube_page(target_url,page_num=i)\n",
    "    \n",
    "print(\"Total num of videos: \", len(urls))"
   ]
  },
  {
   "cell_type": "markdown",
   "metadata": {},
   "source": [
    "- 将爬虫结果存储到csv"
   ]
  },
  {
   "cell_type": "code",
   "execution_count": null,
   "metadata": {},
   "outputs": [],
   "source": [
    "df = pd.DataFrame(urls, columns=['VideoID'])\n",
    "df.to_csv('VideoList.csv',index=False)"
   ]
  }
 ],
 "metadata": {
  "kernelspec": {
   "display_name": "Python 3",
   "language": "python",
   "name": "python3"
  },
  "language_info": {
   "codemirror_mode": {
    "name": "ipython",
    "version": 3
   },
   "file_extension": ".py",
   "mimetype": "text/x-python",
   "name": "python",
   "nbconvert_exporter": "python",
   "pygments_lexer": "ipython3",
   "version": "3.7.1"
  }
 },
 "nbformat": 4,
 "nbformat_minor": 2
}
